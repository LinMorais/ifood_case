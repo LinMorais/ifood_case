{
 "cells": [
  {
   "cell_type": "markdown",
   "metadata": {
    "application/vnd.databricks.v1+cell": {
     "cellMetadata": {
      "byteLimit": 2048000,
      "rowLimit": 10000
     },
     "inputWidgets": {},
     "nuid": "87339f99-ab0f-417b-bef5-bc6cca17f48f",
     "showTitle": false,
     "tableResultSettingsMap": {},
     "title": ""
    }
   },
   "source": [
    "# 📄 Documentação passo a passo — View Temporária `BronzeYellowMes03`\n",
    "\n",
    "Este notebook prepara e filtra dados das viagens **Yellow Taxi (Marco/2023)**,\n",
    "criando uma tabela com métricas derivadas tratadas e regras de consistência temporal.\n",
    "\n",
    "---"
   ]
  },
  {
   "cell_type": "markdown",
   "metadata": {
    "application/vnd.databricks.v1+cell": {
     "cellMetadata": {
      "byteLimit": 2048000,
      "rowLimit": 10000
     },
     "inputWidgets": {},
     "nuid": "7511af9a-7048-45d0-b532-1e7b3e678e98",
     "showTitle": false,
     "tableResultSettingsMap": {},
     "title": ""
    }
   },
   "source": [
    "## 🎯 Objetivo\n",
    "Criar a **temp view** `BronzeYellowMes03` a partir de `RawYellowMes03`,\n",
    "aplicando:\n",
    "- derivação de campos de data/hora e duração,\n",
    "- regras de qualidade de dados,\n",
    "- consistência entre início e fim da viagem.\n",
    "\n",
    "---\n"
   ]
  },
  {
   "cell_type": "code",
   "execution_count": 0,
   "metadata": {
    "application/vnd.databricks.v1+cell": {
     "cellMetadata": {
      "byteLimit": 2048000,
      "rowLimit": 10000
     },
     "inputWidgets": {},
     "nuid": "0c4aecf2-721d-42f6-b715-fa34a92e220c",
     "showTitle": false,
     "tableResultSettingsMap": {},
     "title": ""
    }
   },
   "outputs": [],
   "source": [
    "%sql\n",
    "\n",
    "USE CATALOG ifood_case; -- indica o catálogo selecionado\n",
    "USE SCHEMA  nytaxi;     -- indica o schema selecionado\n",
    "\n",
    "-- Cria (ou substitui) a view temporária com as etapas de limpeza e validação\n",
    "CREATE OR REPLACE TEMP VIEW BronzeYellowMes03STG AS\n",
    "-- =========================================\n",
    "-- 1) Limpeza e derivação de colunas base\n",
    "--    (CTE: EspecificationDataClean)\n",
    "-- =========================================\n",
    "WITH EspecificationDataClean AS\n",
    "(\n",
    "  SELECT \n",
    "    *                                                       -- mantém todas as colunas originais do bronze\n",
    "    -- 🔹 Datas derivadas (formato ISO-friendly)\n",
    "    , DATE_FORMAT(tpep_pickup_datetime,  'yyyy-MM-dd') AS Data_Inicio_Viagem\n",
    "    , DATE_FORMAT(tpep_dropoff_datetime, 'yyyy-MM-dd') AS Data_Fim_Viagem\n",
    "    -- 🔹 Componentes de dia (número do dia no mês)\n",
    "    , DAY(tpep_dropoff_datetime)                       AS Dia_Fim_Viagem   \n",
    "    , DAY(tpep_pickup_datetime)                        AS Dia_Inicio_Viagem \n",
    "    -- 🔹 Duração da viagem em minutos (2 casas decimais)\n",
    "    , ROUND(\n",
    "        (UNIX_TIMESTAMP(tpep_dropoff_datetime) - UNIX_TIMESTAMP(tpep_pickup_datetime)) / 60\n",
    "      , 2\n",
    "      )                                                AS Duracao_Viagem\n",
    "    -- 🔹 Hora do dia (0–23) — somente é considerada a HORA CHEIA, sem minutos\n",
    "    , DATE_FORMAT(tpep_dropoff_datetime, 'HH')         AS Hora_Fim_Viagem\n",
    "    , DATE_FORMAT(tpep_pickup_datetime,  'HH')         AS Hora_Inicio_Viagem\n",
    "    -- 🔹 Componentes de mês (1–12)\n",
    "    , MONTH(tpep_dropoff_datetime)                     AS Mes_Fim_Viagem\n",
    "    , MONTH(tpep_pickup_datetime)                      AS Mes_Inicio_Viagem        \n",
    "-- Tabela com dados brutos (RAW Table) do mês de Marco /2023\n",
    "  FROM RawYellowMes03\n",
    "  -- -----------------------------------------\n",
    "  -- Filtros iniciais de integridade de dados\n",
    "  -- -----------------------------------------\n",
    "  WHERE\n",
    "    improvement_surcharge > 0                          -- taxa de melhoria deve ser positiva e obrigatória\n",
    "    AND mta_tax           > 0                          -- taxa MTA deve ser positiva e obrigatória\n",
    "    AND passenger_count   > 0                          -- ao menos 1 passageiro\n",
    "    AND (payment_type BETWEEN 0 AND 6)                 -- tipos de pagamento válidos\n",
    "    AND (PULocationID <> DOLocationID)                 -- embarque ≠ desembarque\n",
    "    AND (store_and_fwd_flag   = 'N' \n",
    "        OR store_and_fwd_flag = 'Y')                   -- flag válida\n",
    "    AND total_amount > 0                               -- valor do pagamento total positivo\n",
    "    -- verificação se o total pago é igual a soma das taxas\n",
    "    AND (ROUND(total_amount,2) \n",
    "        = ROUND(\n",
    "          (fare_amount\n",
    "          + extra \n",
    "          + mta_tax\n",
    "          + tip_amount\n",
    "          + tolls_amount\n",
    "          + improvement_surcharge\n",
    "          + airport_fee\n",
    "          + congestion_surcharge), 2))\n",
    "    AND trip_distance > 0                              -- distância positiva\n",
    "    AND vendorid IN (1, 2, 6, 7)                       -- vendors permitidos\n",
    "),\n",
    "-- =========================================\n",
    "-- 2) Regras de consistência temporal\n",
    "--    (CTE: DateTimeDataClean)\n",
    "-- =========================================\n",
    "DateTimeDataClean AS\n",
    "(\n",
    "  SELECT \n",
    "    *                                                  -- mantém os dados do filtro EspecificationDataClean\n",
    "  FROM \n",
    "    EspecificationDataClean \n",
    "  WHERE\n",
    "    Duracao_Viagem          > 0                        -- duração precisa ser maior do que zero indicando que houve deslocamento\n",
    "    AND Mes_Fim_Viagem      = 3                        -- mês fim: Marco\n",
    "    AND Mes_Inicio_Viagem   = 3                        -- mês início: Marco\n",
    "    AND Hora_Inicio_Viagem  BETWEEN '00' AND '23'      -- valida intervalo de horas do inicio da viagem\n",
    "    AND Hora_Fim_Viagem     BETWEEN '00' AND '23'      -- valida intervalo de horas do fim da viagem\n",
    "    AND Dia_Inicio_Viagem   BETWEEN 1 AND 31           -- valida intervalo de dias do mês do inicio da viagem\n",
    "    AND Dia_Fim_Viagem      BETWEEN 1 AND 31           -- valida intervalo de dias do mês do fim da viagem\n",
    "    -- -----------------------------------------\n",
    "    -- Consistência entre datas/horas de início e fim\n",
    "    -- -----------------------------------------\n",
    "    AND (\n",
    "         -- (A) Mesmo mês e dia inicial <= dia final\n",
    "         ((Dia_Inicio_Viagem <= Dia_Fim_Viagem) AND (Mes_Fim_Viagem = Mes_Inicio_Viagem))\n",
    "         -- (B) Virada de mês: dia inicial > dia final e meses diferentes\n",
    "         OR ((Dia_Inicio_Viagem > Dia_Fim_Viagem) AND (Mes_Fim_Viagem <> Mes_Inicio_Viagem))\n",
    "         -- (C) Horário cruza para o mesmo dia (hora início > hora fim),\n",
    "         --     mas dias coerentes (início < fim) e mesmo mês\n",
    "         OR ((Hora_Inicio_Viagem > Hora_Fim_Viagem)  \n",
    "             AND ((Dia_Inicio_Viagem < Dia_Fim_Viagem) AND (Mes_Fim_Viagem = Mes_Inicio_Viagem)))\n",
    "         -- (D) Mesma data e hora início < hora fim\n",
    "         OR ((Hora_Inicio_Viagem < Hora_Fim_Viagem) \n",
    "             AND ((Dia_Inicio_Viagem = Dia_Fim_Viagem) AND (Mes_Fim_Viagem = Mes_Inicio_Viagem)))\n",
    "        )\n",
    ")\n",
    "-- =========================================\n",
    "-- 3) Seleção final: colunas relevantes\n",
    "-- =========================================\n",
    "SELECT \n",
    "  -- 💰 Componentes financeiros\n",
    "  airport_fee,\n",
    "  congestion_surcharge,\n",
    "  extra,\n",
    "  fare_amount,\n",
    "  improvement_surcharge,\n",
    "  mta_tax,\n",
    "  tip_amount,\n",
    "  tolls_amount,\n",
    "  total_amount,\n",
    "  -- 📅 Datas e horas (originais e derivadas)\n",
    "  tpep_pickup_datetime,\n",
    "  tpep_dropoff_datetime,\n",
    "  Data_Inicio_Viagem,\n",
    "  Data_Fim_Viagem,\n",
    "  Hora_Inicio_Viagem,\n",
    "  Hora_Fim_Viagem,\n",
    "  Dia_Inicio_Viagem,\n",
    "  Dia_Fim_Viagem,\n",
    "  Mes_Inicio_Viagem,\n",
    "  Mes_Fim_Viagem,\n",
    "  -- 📍 Geografia e metadados\n",
    "  PULocationID,\n",
    "  DOLocationID,\n",
    "  trip_distance,\n",
    "  passenger_count,\n",
    "  payment_type,\n",
    "  store_and_fwd_flag,\n",
    "  vendorId\n",
    "FROM\n",
    "  DateTimeDataClean;\n",
    "\n",
    "---\n"
   ]
  },
  {
   "cell_type": "markdown",
   "metadata": {
    "application/vnd.databricks.v1+cell": {
     "cellMetadata": {
      "byteLimit": 2048000,
      "rowLimit": 10000
     },
     "inputWidgets": {},
     "nuid": "dd0aebe9-d9ab-4c16-83b4-aae94a1b5d16",
     "showTitle": false,
     "tableResultSettingsMap": {},
     "title": ""
    }
   },
   "source": [
    "# 🧪 Validação de Qualidade — `BronzeYellowMes03STG`\n",
    "Este notebook gera um **campo agregado de alertas** (`alerta_validacao`)\n",
    "com base em regras de consistência de negócio e integridade do dado (valores nulos, intervalos inválidos,\n",
    "soma de taxas, etc.). Ao final, exibe apenas os registros com algum problema.\n"
   ]
  },
  {
   "cell_type": "code",
   "execution_count": 0,
   "metadata": {
    "application/vnd.databricks.v1+cell": {
     "cellMetadata": {
      "byteLimit": 2048000,
      "rowLimit": 10000
     },
     "inputWidgets": {},
     "nuid": "5ecaa4fd-154f-4732-8099-59258d36b01a",
     "showTitle": false,
     "tableResultSettingsMap": {},
     "title": ""
    }
   },
   "outputs": [],
   "source": [
    "%python\n",
    "# Importando funcionalidades \n",
    "from pyspark.sql.functions import col, when, lit, concat, unix_timestamp, round\n",
    "\n",
    "# Tabela preparada em estágio \"bronze\"\n",
    "df = spark.table(\"BronzeYellowMes03STG\")\n",
    "\n",
    "# Conjunto de vendors aceitos (regra de negócio)\n",
    "vendors_validos = [1, 2, 6, 7]\n",
    "\n",
    "# -------------------------------------------------------------------\n",
    "# 1) Cálculo de métricas derivadas + construção do campo de alertas\n",
    "# -------------------------------------------------------------------\n",
    "# - Duracao_Viagem: diferença (dropoff - pickup) em minutos, arredondada para 2 casas\n",
    "# - alerta_validacao: CONCAT de mensagens (strings) disparadas pelas regras\n",
    "# - cada WHEN gera a mensagem da regra quando a condição é verdadeira; caso contrário, devolve \"\".\n",
    "#   O uso de strings vazias permite manter compatível com versões antigas do Spark.\n",
    "# -------------------------------------------------------------------\n",
    "df_validacao = (\n",
    "    df.withColumn(\n",
    "        \"Duracao_Viagem\",\n",
    "        round((unix_timestamp(\"tpep_dropoff_datetime\") - unix_timestamp(\"tpep_pickup_datetime\")) / 60, 2)\n",
    "    ).withColumn(\n",
    "        \"alerta_validacao\",\n",
    "        concat(\n",
    "            # -----------------------------\n",
    "            # Regras de datas/dias/meses\n",
    "            # -----------------------------\n",
    "            when(\n",
    "                col(\"Dia_Fim_Viagem\").isNull() | (col(\"Dia_Fim_Viagem\") < 1) | (col(\"Dia_Fim_Viagem\") > 31),\n",
    "                lit(\"Dia_Fim_Viagem fora do intervalo\")\n",
    "            ).otherwise(lit(\"\")),\n",
    "            when(\n",
    "                col(\"Dia_Inicio_Viagem\").isNull() | (col(\"Dia_Inicio_Viagem\") < 1) | (col(\"Dia_Inicio_Viagem\") > 31),\n",
    "                lit(\"Dia_Inicio_Viagem fora do intervalo\")\n",
    "            ).otherwise(lit(\"\")),\n",
    "            # Duração deve ser positiva\n",
    "            when(\n",
    "                col(\"Duracao_Viagem\") <= 0,\n",
    "                lit(\"Duracao_Viagem inválida\")\n",
    "            ).otherwise(lit(\"\")),\n",
    "            # -----------------------------\n",
    "            # Regras de hora (formato texto)\n",
    "            # -----------------------------\n",
    "            when(\n",
    "                col(\"Hora_Fim_Viagem\").isNull() | (col(\"Hora_Fim_Viagem\") < '00') | (col(\"Hora_Fim_Viagem\") > '23'),\n",
    "                lit(\"Hora_Fim_Viagem fora do intervalo\")\n",
    "            ).otherwise(lit(\"\")),\n",
    "            when(\n",
    "                col(\"Hora_Inicio_Viagem\").isNull() | (col(\"Hora_Inicio_Viagem\") < '00') | (col(\"Hora_Inicio_Viagem\") > '23'),\n",
    "                lit(\"Hora_Inicio_Viagem fora do intervalo\")\n",
    "            ).otherwise(lit(\"\")),\n",
    "            # -----------------------------\n",
    "            # Regras de mês (escopo do dataset)\n",
    "            # -----------------------------\n",
    "            when(\n",
    "                col(\"Mes_Fim_Viagem\").isNull() | (col(\"Mes_Fim_Viagem\") < 1) | (col(\"Mes_Fim_Viagem\") > 5),\n",
    "                lit(\"Mes_Fim_Viagem fora do intervalo\")\n",
    "            ).otherwise(lit(\"\")),\n",
    "            when(\n",
    "                col(\"Mes_Inicio_Viagem\").isNull() | (col(\"Mes_Inicio_Viagem\") < 1) | (col(\"Mes_Inicio_Viagem\") > 5),\n",
    "                lit(\"Mes_Inicio_Viagem fora do intervalo\")\n",
    "            ).otherwise(lit(\"\")),\n",
    "            # -----------------------------\n",
    "            # Regras de geografia (zonas)\n",
    "            # -----------------------------\n",
    "            when(\n",
    "                col(\"PULocationID\").isNull() | col(\"DOLocationID\").isNull() | (col(\"PULocationID\") == col(\"DOLocationID\")),\n",
    "                lit(\"PULocationID e DOLocationID não podem ser iguais\")\n",
    "            ).otherwise(lit(\"\")),\n",
    "            # -----------------------------\n",
    "            # Regras financeiras (taxas > 0)\n",
    "            # -----------------------------\n",
    "            when(\n",
    "                col(\"improvement_surcharge\").isNull() | (col(\"improvement_surcharge\") <= 0),\n",
    "                lit(\"improvement_surcharge inválido\")\n",
    "            ).otherwise(lit(\"\")),\n",
    "            when(\n",
    "                col(\"mta_tax\").isNull() | (col(\"mta_tax\") <= 0),\n",
    "                lit(\"mta_tax inválido\")\n",
    "            ).otherwise(lit(\"\")),\n",
    "            # -----------------------------\n",
    "            # Outras consistências de negócio\n",
    "            # -----------------------------\n",
    "            when(\n",
    "                col(\"passenger_count\").isNull() | (col(\"passenger_count\") <= 0),\n",
    "                lit(\"passenger_count inválido\")\n",
    "            ).otherwise(lit(\"\")),\n",
    "            when(\n",
    "                col(\"payment_type\").isNull() | (col(\"payment_type\") < 0) | (col(\"payment_type\") > 6),\n",
    "                lit(\"payment_type inválido\")\n",
    "            ).otherwise(lit(\"\")),\n",
    "            when(\n",
    "                col(\"store_and_fwd_flag\").isNull() | (~col(\"store_and_fwd_flag\").isin('Y', 'N')),\n",
    "                lit(\"store_and_fwd_flag inválido\")\n",
    "            ).otherwise(lit(\"\")),\n",
    "            when(\n",
    "                col(\"total_amount\").isNull() | (col(\"total_amount\") <= 0),\n",
    "                lit(\"total_amount inválido\")\n",
    "            ).otherwise(lit(\"\")),\n",
    "            # Verifica se o valor total pago é igual a soma das parcelas\n",
    "            when(\n",
    "                round(col(\"total_amount\"), 2) != round(\n",
    "                    col(\"fare_amount\")\n",
    "                    + col(\"extra\")\n",
    "                    + col(\"mta_tax\")\n",
    "                    + col(\"tip_amount\")\n",
    "                    + col(\"tolls_amount\")\n",
    "                    + col(\"improvement_surcharge\")\n",
    "                    + col(\"airport_fee\")\n",
    "                    + col(\"congestion_surcharge\"), 2\n",
    "                ),\n",
    "                lit(\"total_amount não corresponde à soma das taxas\")\n",
    "            ).otherwise(lit(\"\")),\n",
    "            # Verifica se houve deslocamento através da distância percorrida\n",
    "            when(\n",
    "                col(\"trip_distance\").isNull() | (col(\"trip_distance\") <= 0),\n",
    "                lit(\"trip_distance inválido\")\n",
    "            ).otherwise(lit(\"\")),\n",
    "            # Verifica se os vendorId são válidos\n",
    "            when(\n",
    "                col(\"vendorId\").isNull() | (~col(\"vendorId\").isin(vendors_validos)),\n",
    "                lit(\"vendorId inválido\")\n",
    "            ).otherwise(lit(\"\"))\n",
    "        )\n",
    "    )\n",
    ")\n",
    "# -------------------------------------------------------------------\n",
    "# 2) Filtra apenas registros com algum alerta gerado\n",
    "# -------------------------------------------------------------------\n",
    "df_com_problemas = df_validacao.filter(col(\"alerta_validacao\") != \"\")\n",
    "# -------------------------------------------------------------------\n",
    "# 3) Exibição para auditoria (pode trocar por write/saveAsTable)\n",
    "# -------------------------------------------------------------------\n",
    "df_com_problemas.display()\n"
   ]
  },
  {
   "cell_type": "markdown",
   "metadata": {
    "application/vnd.databricks.v1+cell": {
     "cellMetadata": {
      "byteLimit": 2048000,
      "rowLimit": 10000
     },
     "inputWidgets": {},
     "nuid": "4cce8253-d34b-46e7-9e14-8528054540c3",
     "showTitle": false,
     "tableResultSettingsMap": {},
     "title": ""
    }
   },
   "source": [
    "# 📄 Criação da View `BronzeYellowMes03`\n",
    "Este script cria ou substitui a tabela `BronzeYellowMes03` no catálogo `ifood_case` e schema `nytaxi` após a validação dos dados de acordo com as regras especificadas pelo sistema de taxi de NYC e concepção de métricas auxiliares para análises posteriores.\n",
    "\n",
    "Esta tabela será unficada com as demais tabelas dos outros meses para criar a tabela SilverYellow.\n",
    "\n",
    "---\n",
    "\n"
   ]
  },
  {
   "cell_type": "code",
   "execution_count": 0,
   "metadata": {
    "application/vnd.databricks.v1+cell": {
     "cellMetadata": {
      "byteLimit": 2048000,
      "rowLimit": 10000
     },
     "inputWidgets": {},
     "nuid": "3d8f1cee-2f36-432b-b107-1716b02f8677",
     "showTitle": false,
     "tableResultSettingsMap": {
      "0": {
       "dataGridStateBlob": "{\"version\":1,\"tableState\":{\"columnPinning\":{\"left\":[\"#row_number#\"],\"right\":[]},\"columnSizing\":{},\"columnVisibility\":{}},\"settings\":{\"columns\":{}},\"syncTimestamp\":1754857004043}",
       "filterBlob": null,
       "queryPlanFiltersBlob": null,
       "tableResultIndex": 0
      }
     },
     "title": ""
    }
   },
   "outputs": [],
   "source": [
    "%sql\n",
    "\n",
    "USE CATALOG ifood_case;\n",
    "USE SCHEMA  nytaxi;\n",
    "\n",
    "CREATE OR REPLACE TABLE BronzeYellowMes03 AS\n",
    "\n",
    "SELECT\n",
    "  *\n",
    "FROM\n",
    "  BronzeYellowMes03STG"
   ]
  }
 ],
 "metadata": {
  "application/vnd.databricks.v1+notebook": {
   "computePreferences": {
    "hardware": {
     "accelerator": null,
     "gpuPoolId": null,
     "memory": null
    }
   },
   "dashboards": [],
   "environmentMetadata": {
    "base_environment": "",
    "environment_version": "2"
   },
   "inputWidgetPreferences": null,
   "language": "sql",
   "notebookMetadata": {
    "mostRecentlyExecutedCommandWithImplicitDF": {
     "commandId": -1,
     "dataframes": [
      "_sqldf"
     ]
    },
    "pythonIndentUnit": 4
   },
   "notebookName": "BronzeYellowMes03",
   "widgets": {}
  },
  "language_info": {
   "name": "sql"
  }
 },
 "nbformat": 4,
 "nbformat_minor": 0
}
