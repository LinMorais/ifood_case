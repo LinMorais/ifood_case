{
 "cells": [
  {
   "cell_type": "markdown",
   "metadata": {
    "application/vnd.databricks.v1+cell": {
     "cellMetadata": {
      "byteLimit": 2048000,
      "rowLimit": 10000
     },
     "inputWidgets": {},
     "nuid": "90c81c20-4439-44ca-b95a-fa9387abde72",
     "showTitle": false,
     "tableResultSettingsMap": {},
     "title": ""
    }
   },
   "source": [
    "# \uD83D\uDFE8 Gold Layer — Tabela `GoldYellow`\n",
    "Este notebook cria a tabela **`GoldYellow`** a partir da camada Silver (`SilverYellow`),  \n",
    "derivando colunas de **data/hora**, aplicando **tipagens**, e calculando KPIs com **window functions**:\n",
    "- `Media_Passageiros` → média de passageiros por *Data_Viagem + Hora_Inicio_Viagem*  \n",
    "- `Media_Valor_Total_Mensal` → média global de `total_amount` no conjunto (todas as linhas retornadas)\n",
    "\n",
    "---\n"
   ]
  },
  {
   "cell_type": "code",
   "execution_count": 0,
   "metadata": {
    "application/vnd.databricks.v1+cell": {
     "cellMetadata": {
      "byteLimit": 2048000,
      "implicitDf": true,
      "rowLimit": 10000
     },
     "inputWidgets": {},
     "nuid": "aabcc4d8-2caa-4853-98fd-3248c0253dff",
     "showTitle": false,
     "tableResultSettingsMap": {},
     "title": ""
    }
   },
   "outputs": [
    {
     "output_type": "display_data",
     "data": {
      "text/html": [
       "<style scoped>\n",
       "  .table-result-container {\n",
       "    max-height: 300px;\n",
       "    overflow: auto;\n",
       "  }\n",
       "  table, th, td {\n",
       "    border: 1px solid black;\n",
       "    border-collapse: collapse;\n",
       "  }\n",
       "  th, td {\n",
       "    padding: 5px;\n",
       "  }\n",
       "  th {\n",
       "    text-align: left;\n",
       "  }\n",
       "</style><div class='table-result-container'><table class='table-result'><thead style='background-color: white'><tr><th>num_affected_rows</th><th>num_inserted_rows</th></tr></thead><tbody></tbody></table></div>"
      ]
     },
     "metadata": {
      "application/vnd.databricks.v1+output": {
       "addedWidgets": {},
       "aggData": [],
       "aggError": "",
       "aggOverflow": false,
       "aggSchema": [],
       "aggSeriesLimitReached": false,
       "aggType": "",
       "arguments": {},
       "columnCustomDisplayInfos": {},
       "data": [],
       "datasetInfos": [
        {
         "name": "_sqldf",
         "schema": {
          "fields": [
           {
            "metadata": {},
            "name": "num_affected_rows",
            "nullable": true,
            "type": "long"
           },
           {
            "metadata": {},
            "name": "num_inserted_rows",
            "nullable": true,
            "type": "long"
           }
          ],
          "type": "struct"
         },
         "tableIdentifier": null,
         "typeStr": "pyspark.sql.connect.dataframe.DataFrame"
        }
       ],
       "dbfsResultPath": null,
       "isJsonSchema": true,
       "metadata": {
        "createTempViewForImplicitDf": true,
        "dataframeName": "_sqldf",
        "executionCount": 252
       },
       "overflow": false,
       "plotOptions": {
        "customPlotOptions": {},
        "displayType": "table",
        "pivotAggregation": null,
        "pivotColumns": null,
        "xColumns": null,
        "yColumns": null
       },
       "removedWidgets": [],
       "schema": [
        {
         "metadata": "{}",
         "name": "num_affected_rows",
         "type": "\"long\""
        },
        {
         "metadata": "{}",
         "name": "num_inserted_rows",
         "type": "\"long\""
        }
       ],
       "type": "table"
      }
     },
     "output_type": "display_data"
    }
   ],
   "source": [
    "%sql\n",
    "-- Contexto do catálogo/esquema onde a tabela será criada\n",
    "USE CATALOG ifood_case;     -- catálogo lógico (workspace-level)\n",
    "USE SCHEMA  nytaxi;         -- schema (database) de destino\n",
    "\n",
    "-- Cria ou substitui a TABELA 'GoldYellow' materializando o resultado do SELECT\n",
    "CREATE OR REPLACE TABLE GoldYellow AS \n",
    "\n",
    "-- =========================================\n",
    "-- CTE 1: Ajustes de data/hora e tipos (GoldAdjustment)\n",
    "-- - Deriva 'Data_Viagem' (string dd-MM-yyyy) e 'Hora_Inicio_Viagem' (int 0–23)\n",
    "-- - Faz TRY_CAST dos campos numéricos para maior robustez\n",
    "-- - Mantém campos de identificação e timestamps\n",
    "-- =========================================\n",
    "WITH GoldAdjustment AS (\n",
    "  SELECT\n",
    "      DATE_FORMAT(Data_Inicio_Viagem, 'dd-MM-yyyy') AS Data_Viagem           -- data de início da viagem no formato dd-MM-yyyy\n",
    "    , TRY_CAST(Hora_Inicio_Viagem AS INT)           AS Hora_Inicio_Viagem    -- hora (0–23) como inteiro\n",
    "    , Mes_Inicio_Viagem                                                      -- mês de início (1–12), já derivado na Silver\n",
    "    , Mes_Fim_Viagem                                                         -- mês de fim   (1–12), já derivado na Silver\n",
    "    , TRY_CAST(passenger_count AS DOUBLE)           AS passenger_count       -- quantidade de passageiros como double\n",
    "    , vendorId                                                             -- id do fornecedor (empresa de táxi)\n",
    "    , TRY_CAST(total_amount AS DOUBLE)              AS total_amount          -- valor total da corrida como double\n",
    "    , tpep_dropoff_datetime                                                   -- timestamp de fim da corrida (original)\n",
    "    , tpep_pickup_datetime                                                    -- timestamp de início da corrida (original)\n",
    "  FROM \n",
    "    SilverYellow                                                             -- fonte: camada Silver (dados já limpos e padronizados)\n",
    "),\n",
    "\n",
    "-- =========================================\n",
    "-- CTE 2: Cálculo de KPIs com Window Functions (DateTimeMediumPassenger)\n",
    "-- - Media_Passageiros: média por Data_Viagem + Hora_Inicio_Viagem (partição por esses campos)\n",
    "-- - Media_Valor_Total_Mensal: média global (OVER ()) no conjunto atual\n",
    "--   Obs.: se quiser média por mês/partição específica, ajuste a cláusula OVER.\n",
    "-- =========================================\n",
    "DateTimeMediumPassenger AS (\n",
    "  SELECT\n",
    "      *\n",
    "    , ROUND(\n",
    "        AVG(passenger_count) OVER (PARTITION BY Data_Viagem, Hora_Inicio_Viagem)\n",
    "      , 2) AS Media_Passageiros                                            -- média de passageiros por dia/hora\n",
    "    , ROUND(\n",
    "        AVG(total_amount)   OVER ()\n",
    "      , 2) AS Media_Valor_Total_Mensal                                     -- média global de total_amount no conjunto\n",
    "  FROM GoldAdjustment\n",
    ")\n",
    "\n",
    "-- =========================================\n",
    "-- SELECT final\n",
    "-- - Mantém KPIs calculados e campos de detalhe para auditoria/drill-down\n",
    "-- - Sem GROUP BY: as janelas garantem que os KPIs sejam constantes dentro da partição\n",
    "-- =========================================\n",
    "SELECT\n",
    "    Data_Viagem\n",
    "  , Hora_Inicio_Viagem \n",
    "  , Media_Passageiros\n",
    "  , Media_Valor_Total_Mensal\n",
    "  , Mes_Fim_Viagem\n",
    "  , Mes_Inicio_Viagem\n",
    "  , passenger_count\n",
    "  , total_amount\n",
    "  , tpep_dropoff_datetime\n",
    "  , tpep_pickup_datetime\n",
    "  , vendorId\n",
    "FROM \n",
    "  DateTimeMediumPassenger;\n"
   ]
  }
 ],
 "metadata": {
  "application/vnd.databricks.v1+notebook": {
   "computePreferences": null,
   "dashboards": [],
   "environmentMetadata": {
    "base_environment": "",
    "environment_version": "2"
   },
   "inputWidgetPreferences": null,
   "language": "python",
   "notebookMetadata": {
    "mostRecentlyExecutedCommandWithImplicitDF": {
     "commandId": 7380425306815961,
     "dataframes": [
      "_sqldf"
     ]
    },
    "pythonIndentUnit": 4
   },
   "notebookName": "GoldYellow",
   "widgets": {}
  },
  "language_info": {
   "name": "python"
  }
 },
 "nbformat": 4,
 "nbformat_minor": 0
}