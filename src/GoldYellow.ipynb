{
 "cells": [
  {
   "cell_type": "markdown",
   "metadata": {
    "application/vnd.databricks.v1+cell": {
     "cellMetadata": {
      "byteLimit": 2048000,
      "rowLimit": 10000
     },
     "inputWidgets": {},
     "nuid": "90c81c20-4439-44ca-b95a-fa9387abde72",
     "showTitle": false,
     "tableResultSettingsMap": {},
     "title": ""
    }
   },
   "source": [
    "# 🟨 Gold Layer — Tabela `GoldYellow`\n",
    "Este notebook cria a tabela **`GoldYellow`** a partir da camada Silver (`SilverYellow`),  \n",
    "derivando colunas de **data/hora**, aplicando **tipagens**, e calculando KPIs com **window functions**:\n",
    "- `Media_Passageiros` → média de passageiros por *Data_Viagem + Hora_Inicio_Viagem*  \n",
    "- `Media_Valor_Total_Mensal` → média global de `total_amount` no conjunto (todas as linhas retornadas)\n",
    "\n",
    "---\n"
   ]
  },
  {
   "cell_type": "code",
   "execution_count": 0,
   "metadata": {
    "application/vnd.databricks.v1+cell": {
     "cellMetadata": {
      "byteLimit": 2048000,
      "implicitDf": true,
      "rowLimit": 10000
     },
     "inputWidgets": {},
     "nuid": "aabcc4d8-2caa-4853-98fd-3248c0253dff",
     "showTitle": false,
     "tableResultSettingsMap": {},
     "title": ""
    }
   },
   "outputs": [],
   "source": [
    "%sql\n",
    "-- Contexto do catálogo/esquema onde a tabela será criada\n",
    "USE CATALOG ifood_case;     -- catálogo lógico (workspace-level)\n",
    "USE SCHEMA  nytaxi;         -- schema (database) de destino\n",
    "\n",
    "-- Cria ou substitui a TABELA 'GoldYellow' materializando o resultado do SELECT\n",
    "CREATE OR REPLACE TABLE GoldYellow AS \n",
    "\n",
    "-- =========================================\n",
    "-- CTE 1: Ajustes de data/hora e tipos (GoldAdjustment)\n",
    "-- - Deriva 'Data_Viagem' (string dd-MM-yyyy) e 'Hora_Inicio_Viagem' (int 0–23)\n",
    "-- - Faz TRY_CAST dos campos numéricos para maior robustez\n",
    "-- - Mantém campos de identificação e timestamps\n",
    "-- =========================================\n",
    "WITH GoldAdjustment AS (\n",
    "  SELECT\n",
    "      DATE_FORMAT(Data_Inicio_Viagem, 'dd-MM-yyyy') AS Data_Viagem           -- data de início da viagem no formato dd-MM-yyyy\n",
    "    , TRY_CAST(Hora_Inicio_Viagem AS INT)           AS Hora_Inicio_Viagem    -- hora (0–23) como inteiro\n",
    "    , Mes_Inicio_Viagem                                                      -- mês de início (1–12), já derivado na Silver\n",
    "    , Mes_Fim_Viagem                                                         -- mês de fim   (1–12), já derivado na Silver\n",
    "    , TRY_CAST(passenger_count AS DOUBLE)           AS passenger_count       -- quantidade de passageiros como double\n",
    "    , vendorId                                                             -- id do fornecedor (empresa de táxi)\n",
    "    , TRY_CAST(total_amount AS DOUBLE)              AS total_amount          -- valor total da corrida como double\n",
    "    , tpep_dropoff_datetime                                                   -- timestamp de fim da corrida (original)\n",
    "    , tpep_pickup_datetime                                                    -- timestamp de início da corrida (original)\n",
    "  FROM \n",
    "    SilverYellow                                                             -- fonte: camada Silver (dados já limpos e padronizados)\n",
    "),\n",
    "\n",
    "-- =========================================\n",
    "-- CTE 2: Cálculo de KPIs com Window Functions (DateTimeMediumPassenger)\n",
    "-- - Media_Passageiros: média por Data_Viagem + Hora_Inicio_Viagem (partição por esses campos)\n",
    "-- - Media_Valor_Total_Mensal: média global (OVER ()) no conjunto atual\n",
    "--   Obs.: se quiser média por mês/partição específica, ajuste a cláusula OVER.\n",
    "-- =========================================\n",
    "DateTimeMediumPassenger AS (\n",
    "  SELECT\n",
    "      *\n",
    "    , ROUND(\n",
    "        AVG(passenger_count) OVER (PARTITION BY Data_Viagem, Hora_Inicio_Viagem)\n",
    "      , 2) AS Media_Passageiros                                            -- média de passageiros por dia/hora\n",
    "    , ROUND(\n",
    "        AVG(total_amount)   OVER ()\n",
    "      , 2) AS Media_Valor_Total_Mensal                                     -- média global de total_amount no conjunto\n",
    "  FROM GoldAdjustment\n",
    ")\n",
    "\n",
    "-- =========================================\n",
    "-- SELECT final\n",
    "-- - Mantém KPIs calculados e campos de detalhe para auditoria/drill-down\n",
    "-- - Sem GROUP BY: as janelas garantem que os KPIs sejam constantes dentro da partição\n",
    "-- =========================================\n",
    "SELECT\n",
    "    Data_Viagem\n",
    "  , Hora_Inicio_Viagem \n",
    "  , Media_Passageiros\n",
    "  , Media_Valor_Total_Mensal\n",
    "  , Mes_Fim_Viagem\n",
    "  , Mes_Inicio_Viagem\n",
    "  , passenger_count\n",
    "  , total_amount\n",
    "  , tpep_dropoff_datetime\n",
    "  , tpep_pickup_datetime\n",
    "  , vendorId\n",
    "FROM \n",
    "  DateTimeMediumPassenger;\n"
   ]
  },
  {
   "cell_type": "code",
   "execution_count": 0,
   "metadata": {
    "application/vnd.databricks.v1+cell": {
     "cellMetadata": {
      "byteLimit": 2048000,
      "implicitDf": true,
      "rowLimit": 10000
     },
     "inputWidgets": {},
     "nuid": "2e2fae78-3e3b-423b-99fc-4e730a905ac5",
     "showTitle": false,
     "tableResultSettingsMap": {},
     "title": ""
    }
   },
   "outputs": [],
   "source": [
    "%sql\n",
    "\n",
    "USE CATALOG ifood_case;\n",
    "USE SCHEMA  nytaxi;\n",
    "\n",
    "SELECT\n",
    "  Mes_Inicio_Viagem               AS  Mes_Viagem\n",
    "  ,  ROUND(AVG(total_amount), 2)  AS  Media_Mensal_Total_Amount\n",
    "FROM \n",
    "  GoldYellow\n",
    "WHERE\n",
    "  Mes_Inicio_Viagem = Mes_Fim_Viagem\n",
    "GROUP BY\n",
    "  Mes_Viagem\n",
    "ORDER BY\n",
    "  Mes_Viagem ASC"
   ]
  },
  {
   "cell_type": "code",
   "execution_count": 0,
   "metadata": {
    "application/vnd.databricks.v1+cell": {
     "cellMetadata": {
      "byteLimit": 2048000,
      "implicitDf": true,
      "rowLimit": 10000
     },
     "inputWidgets": {},
     "nuid": "bce22911-fdfa-44c8-b64e-0cd279448c7b",
     "showTitle": false,
     "tableResultSettingsMap": {},
     "title": ""
    }
   },
   "outputs": [],
   "source": [
    "%sql\n",
    "\n",
    "USE CATALOG ifood_case;\n",
    "USE SCHEMA  nytaxi;\n",
    "\n",
    "WITH DateTimeMediumPassenger AS (\n",
    "  SELECT\n",
    "    DATE_FORMAT(tpep_pickup_datetime, 'dd-MM-yyyy')         AS  Data_Viagem\n",
    "    , TRY_CAST(SUBSTRING(Hora_Inicio_Viagem, 1, 2) AS INT)  AS  Hora_Dia\n",
    "    , TRY_CAST(passenger_count AS DOUBLE)                   AS  passenger_count\n",
    "    , vendorId\n",
    "    , total_amount\n",
    "    , tpep_dropoff_datetime\n",
    "    , tpep_pickup_datetime\n",
    "  FROM\n",
    "    GoldYellow\n",
    "  WHERE\n",
    "    Mes_Fim_Viagem        = 5\n",
    "    AND Mes_Inicio_Viagem = 5\n",
    ")\n",
    "SELECT\n",
    "  Data_Viagem\n",
    "  , Hora_Dia\n",
    "  , ROUND(AVG(passenger_count), 2)                        AS  Media_Passageiros\n",
    "FROM\n",
    "  DateTimeMediumPassenger\n",
    "WHERE\n",
    "  Hora_Dia BETWEEN 0 AND 23\n",
    "GROUP BY\n",
    "  Data_Viagem\n",
    "  , Hora_Dia\n",
    "ORDER BY\n",
    "  Data_Viagem ASC,\n",
    "  Hora_Dia ASC;"
   ]
  },
  {
   "cell_type": "code",
   "execution_count": 0,
   "metadata": {
    "application/vnd.databricks.v1+cell": {
     "cellMetadata": {
      "byteLimit": 2048000,
      "rowLimit": 10000
     },
     "inputWidgets": {},
     "nuid": "da2c01eb-53f9-4e11-b670-c722f4816681",
     "showTitle": false,
     "tableResultSettingsMap": {},
     "title": ""
    }
   },
   "outputs": [],
   "source": [
    "fim"
   ]
  },
  {
   "cell_type": "code",
   "execution_count": 0,
   "metadata": {
    "application/vnd.databricks.v1+cell": {
     "cellMetadata": {
      "byteLimit": 2048000,
      "rowLimit": 10000
     },
     "inputWidgets": {},
     "nuid": "fbaa6c24-26d4-49be-8db7-f77c42660c5b",
     "showTitle": false,
     "tableResultSettingsMap": {},
     "title": ""
    }
   },
   "outputs": [],
   "source": [
    "from pyspark.sql.functions import split, explode, trim\n",
    "\n",
    "df_exploded = df_validacao.select(\n",
    "    explode(split('alerta_validacao', ';')).alias('alerta')\n",
    ").withColumn('alerta', trim(F.col('alerta')))\n",
    "\n",
    "# Remover linhas vazias\n",
    "df_exploded = df_exploded.filter(F.col('alerta') != '')\n",
    "\n",
    "# Contagem por tipo de alerta\n",
    "df_alerta_count = df_exploded.groupBy('alerta').count().orderBy(F.desc('count'))\n",
    "df_alerta_count.display()\n",
    "\n",
    "alertas_pd = df_alerta_count.toPandas()\n",
    "import matplotlib.pyplot as plt\n",
    "plt.figure(figsize=(10, 6))\n",
    "plt.barh(alertas_pd['alerta'], alertas_pd['count'])\n",
    "plt.xlabel('Ocorrências')\n",
    "plt.title('Frequência dos Tipos de Alertas de Validação')\n",
    "plt.gca().invert_yaxis()\n",
    "plt.show()"
   ]
  }
 ],
 "metadata": {
  "application/vnd.databricks.v1+notebook": {
   "computePreferences": null,
   "dashboards": [],
   "environmentMetadata": {
    "base_environment": "",
    "environment_version": "2"
   },
   "inputWidgetPreferences": null,
   "language": "python",
   "notebookMetadata": {
    "mostRecentlyExecutedCommandWithImplicitDF": {
     "commandId": 7380425306815961,
     "dataframes": [
      "_sqldf"
     ]
    },
    "pythonIndentUnit": 4
   },
   "notebookName": "GoldYellow",
   "widgets": {}
  },
  "language_info": {
   "name": "python"
  }
 },
 "nbformat": 4,
 "nbformat_minor": 0
}
