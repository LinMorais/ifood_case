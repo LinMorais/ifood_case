{
 "cells": [
  {
   "cell_type": "markdown",
   "metadata": {
    "application/vnd.databricks.v1+cell": {
     "cellMetadata": {},
     "inputWidgets": {},
     "nuid": "0594a12e-06de-4e6b-9296-3875905e1c9b",
     "showTitle": false,
     "tableResultSettingsMap": {},
     "title": ""
    }
   },
   "source": [
    "\n",
    "<div align=\"center\">\n",
    "\n",
    "## Bruteforce Concept Demonstration\n",
    "### A demonstration of the concept of bruteforcing a website or email login written in Python.\n",
    "[![Python Badge](https://img.shields.io/badge/Made_with_Python-3776AB?logo=python&labelColor=white)](https://python.org/)\n",
    "##\n",
    "\n",
    "[Intro](#introduction) • [Run it](#how-to-run-it) • [Use it](#how-to-use-it) • [Disclaimer](#disclaimer)\n",
    "\n",
    "</div>\n",
    "\n",
    "### Introduction\n",
    "This project was assigned as a pet project for work. It is not meant to be used as a practical tool, but as an educational demonstration.\n",
    "\n",
    "This tries to demonstrate the underlying code behind bruteforce network attacks, both to websites and emails.\n",
    "\n",
    "### How to Run it\n",
    "To run the application, simply invoke it with the appropriate flags for it to function. Using the `--help` flag will show a list of the available flags and options. Any missing flags for the code to function will be indicated on the terminal window.\n",
    "\n",
    "###### Run it with python:\n",
    "```sh\n",
    "python3 bruteforcer.py --help\n",
    "```\n",
    "\n",
    "###### Or run it directly with a shell:\n",
    "```sh\n",
    "$(pwd)/bruteforcer.py --help\n",
    "```\n",
    "\n",
    "> ###### Dependencies:\n",
    "> This project depends on `python3` and the following python libraries: `argparse` `requests` `imaplib`\n",
    "\n",
    "### How to Use it\n",
    "The application will execute the actions indicated by the entered flags and then _promptly_ exit. If any other actions are desired, run the program again using different flags.\n",
    "\n",
    "<img src=\".assets/images/BruteForcer.png\" alt=\"BruteForcer.py on a Terminal Window\" align=\"center\"/>\n",
    "\n",
    "##\n",
    "> #### DISCLAIMER:\n",
    "> **I do not condone the use of this software in any way that breaks the law, as it was made entirely for educational purposes.**\n",
    "> \n",
    "> The software is offered as is, and **I do not** take responsibility for any kind of misuse.\n",
    "##\n",
    "\n",
    "<div align=\"center\">\n",
    "\n",
    "[![Back to the Top Badge](https://custom-icon-badges.demolab.com/badge/Back_to_the_Top-171515?logo=chevron-up)](#bruteforce-concept-demonstration)\n",
    "\n",
    "</div>"
   ]
  },
  {
   "cell_type": "markdown",
   "metadata": {
    "application/vnd.databricks.v1+cell": {
     "cellMetadata": {
      "byteLimit": 2048000,
      "rowLimit": 10000
     },
     "inputWidgets": {},
     "nuid": "3d5ab4c5-9b0a-4a2f-b057-530cab52bf4d",
     "showTitle": false,
     "tableResultSettingsMap": {},
     "title": ""
    }
   },
   "source": [
    "# 📄 Criação da Tabela `BronzeYellow`\n",
    "Este script unifica os dados mensais de viagens **Yellow Taxi** de diferentes meses (`Mes01` a `Mes05`)  \n",
    "em uma única tabela `BronzeYellow`, utilizando a operação `UNION ALL` para manter **todos os registros**.\n",
    "\n",
    "---\n",
    "\n",
    "## 🎯 Objetivo\n",
    "Consolidar dados de múltiplas tabelas mensais em uma única base para facilitar análises, relatórios e KPIs globais.\n",
    "\n",
    "---\n"
   ]
  },
  {
   "cell_type": "code",
   "execution_count": 0,
   "metadata": {
    "application/vnd.databricks.v1+cell": {
     "cellMetadata": {
      "byteLimit": 2048000,
      "implicitDf": true,
      "rowLimit": 10000
     },
     "inputWidgets": {},
     "nuid": "0ce5a597-f573-4bd2-8b0e-714fd0cd7bdb",
     "showTitle": true,
     "tableResultSettingsMap": {},
     "title": "teste de nome"
    }
   },
   "outputs": [],
   "source": [
    "%sql\n",
    "-- Seleciona o catálogo e schema de destino\n",
    "USE CATALOG ifood_case;\n",
    "\n",
    "\n",
    "USE SCHEMA nytaxi;"
   ]
  },
  {
   "cell_type": "code",
   "execution_count": 0,
   "metadata": {
    "application/vnd.databricks.v1+cell": {
     "cellMetadata": {
      "byteLimit": 2048000,
      "implicitDf": true,
      "rowLimit": 10000
     },
     "inputWidgets": {},
     "nuid": "d8e44f2a-a5b4-4c6c-a1c8-5aa845da1c55",
     "showTitle": false,
     "tableResultSettingsMap": {},
     "title": ""
    }
   },
   "outputs": [],
   "source": [
    "%sql\n",
    "-- Cria ou substitui a tabela unificada BronzeYellow\n",
    "CREATE OR REPLACE TABLE BronzeYellow AS\n",
    "\n",
    "-- =========================================\n",
    "-- 1️⃣ União de todas as tabelas mensais\n",
    "--    - Tabelas de origem BronzeYellowMesXX já estão tratadas e higienizadas\n",
    "--    - Remove duplicatas\n",
    "-- =========================================\n",
    "SELECT * FROM BronzeYellowMes01\n",
    "UNION \n",
    "SELECT * FROM BronzeYellowMes02\n",
    "UNION \n",
    "SELECT * FROM BronzeYellowMes03\n",
    "UNION \n",
    "SELECT * FROM BronzeYellowMes04\n",
    "UNION\n",
    "SELECT * FROM BronzeYellowMes05;\n"
   ]
  },
  {
   "cell_type": "markdown",
   "metadata": {
    "application/vnd.databricks.v1+cell": {
     "cellMetadata": {
      "byteLimit": 2048000,
      "rowLimit": 10000
     },
     "inputWidgets": {},
     "nuid": "1737370b-8f9f-4dc4-be12-e036dbae2189",
     "showTitle": false,
     "tableResultSettingsMap": {},
     "title": ""
    }
   },
   "source": [
    "# ✅ Validação da tabela `BronzeYellow`\n",
    "\n",
    "Nesta versão:\n",
    "- Cada regra de validação gera um elemento no array `lista_alertas`\n",
    "- Valores `NULL` são removidos do array de mensagens\n",
    "- `num_alertas`: quantidade de alertas por registro\n",
    "- `alerta_validacao`: string única com alertas separados por `\"; \"`\n",
    "\n",
    "---\n"
   ]
  },
  {
   "cell_type": "code",
   "execution_count": 0,
   "metadata": {
    "application/vnd.databricks.v1+cell": {
     "cellMetadata": {
      "byteLimit": 2048000,
      "implicitDf": true,
      "rowLimit": 10000
     },
     "inputWidgets": {},
     "nuid": "4432869b-f3ad-4e6e-8caa-c8dbe868d2c7",
     "showTitle": false,
     "tableResultSettingsMap": {},
     "title": ""
    }
   },
   "outputs": [],
   "source": [
    "%sql\n",
    "WITH BronzeYellowValidate AS (\n",
    "  SELECT\n",
    "    Data_Fim_Viagem\n",
    "    , Data_Inicio_Viagem\n",
    "    , Dia_Fim_Viagem\n",
    "    , Dia_Inicio_Viagem\n",
    "    , Hora_Fim_Viagem\n",
    "    , Hora_Inicio_Viagem\n",
    "    , Mes_Fim_Viagem\n",
    "    , Mes_Inicio_Viagem\n",
    "    , passenger_count\n",
    "    , tpep_dropoff_datetime\n",
    "    , tpep_pickup_datetime\n",
    "    , total_amount\n",
    "    , vendorId\n",
    "\n",
    "    -- =========================================\n",
    "    -- ARRAY DE REGRAS DE VALIDAÇÃO\n",
    "    -- Cada WHEN verdadeiro gera mensagem; falso gera NULL\n",
    "    -- =========================================\n",
    "    , array_remove(ARRAY(\n",
    "      CASE WHEN Data_Fim_Viagem IS NULL\n",
    "            OR (Data_Fim_Viagem < \"2023-01-01\" OR Data_Fim_Viagem > \"2023-05-31\")\n",
    "            THEN 'data fim viagem inválido' END\n",
    "\n",
    "      , CASE WHEN Data_Inicio_Viagem IS NULL\n",
    "            OR (Data_Inicio_Viagem < \"2023-01-01\" OR Data_Inicio_Viagem > \"2023-05-31\")\n",
    "            THEN 'data início viagem inválido' END\n",
    "\n",
    "      , CASE WHEN Dia_Fim_Viagem IS NULL OR Dia_Fim_Viagem < 1 OR Dia_Fim_Viagem > 31\n",
    "            THEN 'Dia_Fim_Viagem fora do intervalo' END\n",
    "\n",
    "      , CASE WHEN Dia_Inicio_Viagem IS NULL OR Dia_Inicio_Viagem < 1 OR Dia_Inicio_Viagem > 31\n",
    "            THEN 'Dia_Inicio_Viagem fora do intervalo' END\n",
    "\n",
    "      , CASE WHEN Hora_Fim_Viagem IS NULL OR Hora_Fim_Viagem < '00' OR Hora_Fim_Viagem > '23'\n",
    "            THEN 'Hora_Fim_Viagem fora do intervalo' END\n",
    "\n",
    "      , CASE WHEN Hora_Inicio_Viagem IS NULL OR Hora_Inicio_Viagem < '00' OR Hora_Inicio_Viagem > '23'\n",
    "            THEN 'Hora_Inicio_Viagem fora do intervalo' END\n",
    "\n",
    "      , CASE WHEN Mes_Fim_Viagem IS NULL OR Mes_Fim_Viagem < 1 OR Mes_Fim_Viagem > 5\n",
    "            THEN 'Mes_Fim_Viagem fora do intervalo' END\n",
    "\n",
    "      , CASE WHEN Mes_Inicio_Viagem IS NULL OR Mes_Inicio_Viagem < 1 OR Mes_Inicio_Viagem > 5\n",
    "            THEN 'Mes_Inicio_Viagem fora do intervalo' END\n",
    "\n",
    "      , CASE WHEN passenger_count IS NULL OR passenger_count <= 0\n",
    "            THEN 'passenger_count inválido' END\n",
    "\n",
    "      , CASE WHEN total_amount IS NULL OR total_amount <= 0\n",
    "            THEN 'total_amount inválido' END\n",
    "\n",
    "      , CASE WHEN vendorId IS NULL OR (vendorId NOT IN (1, 2, 6, 7))\n",
    "            THEN 'vendorId inválido' END\n",
    "    ), NULL) AS lista_alertas\n",
    "  FROM BronzeYellow\n",
    ")\n",
    "\n",
    "SELECT\n",
    "    *\n",
    "    , SIZE(lista_alertas)             AS  num_alertas       -- Quantidade de alertas\n",
    "    , CONCAT_WS('; ', lista_alertas)  AS  alerta_validacao  -- String com alertas separados\n",
    "FROM \n",
    "  BronzeYellowValidate\n",
    "WHERE \n",
    "  SIZE(lista_alertas) > 0; -- Retorna somente registros com alertas\n"
   ]
  }
 ],
 "metadata": {
  "application/vnd.databricks.v1+notebook": {
   "computePreferences": {
    "hardware": {
     "accelerator": null,
     "gpuPoolId": null,
     "memory": null
    }
   },
   "dashboards": [],
   "environmentMetadata": {
    "base_environment": "",
    "environment_version": "2"
   },
   "inputWidgetPreferences": null,
   "language": "python",
   "notebookMetadata": {
    "mostRecentlyExecutedCommandWithImplicitDF": {
     "commandId": 7380425306815977,
     "dataframes": [
      "_sqldf"
     ]
    },
    "pythonIndentUnit": 4
   },
   "notebookName": "BronzeYellow",
   "widgets": {}
  },
  "language_info": {
   "name": "python"
  }
 },
 "nbformat": 4,
 "nbformat_minor": 0
}
