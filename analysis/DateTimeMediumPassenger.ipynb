{
 "cells": [
  {
   "cell_type": "markdown",
   "metadata": {
    "application/vnd.databricks.v1+cell": {
     "cellMetadata": {},
     "inputWidgets": {},
     "nuid": "3a1358ca-bce5-42c8-aa31-a0e86e3bb652",
     "showTitle": false,
     "tableResultSettingsMap": {},
     "title": ""
    }
   },
   "source": [
    "# 🕒 Média de passageiros por hora — Maio (toda a frota)\n",
    "\n",
    "Esta consulta cria a *view* `DateTimeMediumPassenger` que calcula a **média de passageiros por hora do dia**\n",
    "para o **mês de maio** (`Mes_Inicio_Viagem = 5` e `Mes_Fim_Viagem = 5`), considerando **todos os táxis da frota**.\n"
   ]
  },
  {
   "cell_type": "code",
   "execution_count": 0,
   "metadata": {
    "application/vnd.databricks.v1+cell": {
     "cellMetadata": {},
     "inputWidgets": {},
     "nuid": "5eef06ac-1eb6-4138-a609-a5fbf20b3857",
     "showTitle": false,
     "tableResultSettingsMap": {},
     "title": ""
    }
   },
   "outputs": [],
   "source": [
    "%sql\n",
    "-- Contexto (catálogo e schema) onde a view será criada\n",
    "USE CATALOG ifood_case;\n",
    "USE SCHEMA  nytaxi;\n",
    "\n",
    "-- Cria (ou substitui) a VIEW que consolida a média de passageiros por hora do dia em maio\n",
    "CREATE OR REPLACE VIEW DateTimeMediumPassenger AS\n",
    "\n",
    "-- =========================================\n",
    "-- CTE: prepara dados do mês de maio\n",
    "-- - Deriva a data no formato dd-MM-yyyy (Data_Viagem)\n",
    "-- - Extrai a hora do dia (Hora_Dia) a partir de 'Hora_Inicio_Viagem'\n",
    "-- - Converte 'passenger_count' para DOUBLE (para AVG)\n",
    "-- - Mantém colunas úteis para auditoria/extensões (vendorId, total_amount, timestamps)\n",
    "-- - Filtra apenas corridas cujo início e fim estão em maio (Mes_Inicio_Viagem = Mes_Fim_Viagem = 5)\n",
    "--   >> Observação: o nome da CTE coincide com o nome da view; é válido, mas se preferir clareza, renomeie a CTE.\n",
    "-- =========================================\n",
    "WITH DateTimeMediumPassenger AS (\n",
    "  SELECT\n",
    "      DATE_FORMAT(tpep_pickup_datetime, 'dd-MM-yyyy')         AS Data_Viagem     -- data do pickup (dia/mês/ano)\n",
    "    , TRY_CAST(SUBSTRING(Hora_Inicio_Viagem, 1, 2) AS INT)    AS Hora_Dia        -- hora (0–23) extraída do campo textual\n",
    "    , TRY_CAST(passenger_count AS DOUBLE)                     AS passenger_count -- casting para permitir AVG\n",
    "    , vendorId                                                                   -- mantido para eventuais recortes por fornecedor\n",
    "    , total_amount                                                               -- mantido para futuras análises de receita\n",
    "    , tpep_dropoff_datetime                                                      -- timestamp de término\n",
    "    , tpep_pickup_datetime                                                       -- timestamp de início\n",
    "  FROM GoldYellow\n",
    "  WHERE\n",
    "    Mes_Fim_Viagem        = 5                                                   -- fim em maio\n",
    "    AND Mes_Inicio_Viagem = 5                                                   -- início em maio\n",
    ")\n",
    "\n",
    "-- =========================================\n",
    "-- Agregação final: média por Data_Viagem + Hora_Dia\n",
    "-- - Responde diretamente à pergunta solicitada\n",
    "-- - Filtra horas válidas (0–23)\n",
    "-- - Calcula AVG(passenger_count) com 2 casas decimais\n",
    "-- =========================================\n",
    "SELECT\n",
    "    Data_Viagem\n",
    "  , Hora_Dia\n",
    "  , ROUND(AVG(passenger_count), 2) AS Media_Passageiros\n",
    "FROM DateTimeMediumPassenger\n",
    "WHERE Hora_Dia BETWEEN 0 AND 23\n",
    "GROUP BY\n",
    "    Data_Viagem\n",
    "  , Hora_Dia\n",
    "ORDER BY\n",
    "    Data_Viagem ASC\n",
    "  , Hora_Dia   ASC;\n"
   ]
  },
  {
   "cell_type": "code",
   "execution_count": 0,
   "metadata": {
    "application/vnd.databricks.v1+cell": {
     "cellMetadata": {},
     "inputWidgets": {},
     "nuid": "9121d4b8-fdc7-4699-a6e3-57102386d38d",
     "showTitle": false,
     "tableResultSettingsMap": {},
     "title": ""
    }
   },
   "outputs": [],
   "source": [
    "%sql\n",
    "-- Contexto (catálogo e schema) onde a view será criada\n",
    "USE CATALOG ifood_case;\n",
    "USE SCHEMA  nytaxi;\n",
    "\n",
    "SELECT * FROM DateTimeMediumPassenger"
   ]
  }
 ],
 "metadata": {
  "application/vnd.databricks.v1+notebook": {
   "computePreferences": null,
   "dashboards": [],
   "environmentMetadata": {
    "base_environment": "",
    "environment_version": "2"
   },
   "inputWidgetPreferences": null,
   "language": "python",
   "notebookMetadata": {
    "mostRecentlyExecutedCommandWithImplicitDF": {
     "commandId": 7380425306815961,
     "dataframes": [
      "_sqldf"
     ]
    },
    "pythonIndentUnit": 4
   },
   "notebookName": "DateTimeMediumPassenger",
   "widgets": {}
  },
  "language_info": {
   "name": "python"
  }
 },
 "nbformat": 4,
 "nbformat_minor": 0
}
