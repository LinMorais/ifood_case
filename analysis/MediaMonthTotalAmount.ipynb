{
 "cells": [
  {
   "cell_type": "markdown",
   "metadata": {
    "application/vnd.databricks.v1+cell": {
     "cellMetadata": {
      "byteLimit": 2048000,
      "rowLimit": 10000
     },
     "inputWidgets": {},
     "nuid": "b77b4445-070f-4720-be2b-b231908a22c7",
     "showTitle": false,
     "tableResultSettingsMap": {},
     "title": ""
    }
   },
   "source": [
    "# 📊 KPI — Média mensal de `total_amount` (GoldYellow)\n",
    "\n",
    "Esta consulta calcula a **média do valor total recebido por mês** considerando toda a frota (todos os `vendorId`),  \n",
    "usando a tabela **`GoldYellow`**. O filtro `Mes_Inicio_Viagem = Mes_Fim_Viagem` garante que a corrida começou e terminou no **mesmo mês**.\n"
   ]
  },
  {
   "cell_type": "code",
   "execution_count": 0,
   "metadata": {
    "application/vnd.databricks.v1+cell": {
     "cellMetadata": {
      "byteLimit": 2048000,
      "implicitDf": true,
      "rowLimit": 10000
     },
     "inputWidgets": {},
     "nuid": "35c6ebb7-b454-45a1-87a9-e56e3369dc3f",
     "showTitle": false,
     "tableResultSettingsMap": {},
     "title": ""
    }
   },
   "outputs": [],
   "source": [
    "%sql\n",
    "-- Contexto do catálogo e schema onde a consulta será executada\n",
    "USE CATALOG ifood_case;\n",
    "USE SCHEMA  nytaxi;\n",
    "\n",
    "CREATE OR REPLACE VIEW MediaMonthTotalAmount AS\n",
    "-- ============================================================\n",
    "-- Média de total_amount por mês (toda a frota, todos vendors)\n",
    "-- - Mes_Viagem: mês de referência (derivado do início da viagem)\n",
    "-- - Media_Mensal_Total_Amount: AVG(total_amount) arredondado a 2 casas\n",
    "-- - Filtro: apenas viagens que iniciam e terminam no mesmo mês\n",
    "-- ============================================================\n",
    "SELECT\n",
    "  Mes_Inicio_Viagem              AS Mes_Viagem,              -- mês (1..12) do início da viagem\n",
    "  ROUND(AVG(total_amount), 2)    AS Media_Mensal_Total_Amount -- média mensal do valor total\n",
    "FROM GoldYellow\n",
    "WHERE\n",
    "  Mes_Inicio_Viagem = Mes_Fim_Viagem                          -- exclui viagens que atravessam meses\n",
    "GROUP BY\n",
    "  Mes_Viagem\n",
    "ORDER BY\n",
    "  Mes_Viagem ASC;\n"
   ]
  },
  {
   "cell_type": "code",
   "execution_count": 0,
   "metadata": {
    "application/vnd.databricks.v1+cell": {
     "cellMetadata": {},
     "inputWidgets": {},
     "nuid": "6cd40e3e-f004-425a-ba0b-d7de14f75140",
     "showTitle": false,
     "tableResultSettingsMap": {},
     "title": ""
    }
   },
   "outputs": [],
   "source": [
    "%sql\n",
    "-- Contexto (catálogo e schema) onde a view será criada\n",
    "USE CATALOG ifood_case;\n",
    "USE SCHEMA  nytaxi;\n",
    "\n",
    "SELECT * FROM MediaMonthTotalAmount"
   ]
  }
 ],
 "metadata": {
  "application/vnd.databricks.v1+notebook": {
   "computePreferences": null,
   "dashboards": [],
   "environmentMetadata": {
    "base_environment": "",
    "environment_version": "2"
   },
   "inputWidgetPreferences": null,
   "language": "python",
   "notebookMetadata": {
    "mostRecentlyExecutedCommandWithImplicitDF": {
     "commandId": 7380425306816036,
     "dataframes": [
      "_sqldf"
     ]
    },
    "pythonIndentUnit": 4
   },
   "notebookName": "MediaMonthTotalAmount",
   "widgets": {}
  },
  "language_info": {
   "name": "python"
  }
 },
 "nbformat": 4,
 "nbformat_minor": 0
}
